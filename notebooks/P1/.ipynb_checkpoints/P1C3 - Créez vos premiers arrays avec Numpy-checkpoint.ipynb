{
 "cells": [
  {
   "cell_type": "markdown",
   "id": "c228b8d7",
   "metadata": {},
   "source": [
    "![openclassrooms](https://s3.eu-west-1.amazonaws.com/course.oc-static.com/courses/6204541/1+HnqdJ-5ofxiPP9HIxdNdpw.jpeg)\n",
    "\n",
    "# Créez vos premiers arrays avec Numpy\n",
    "\n",
    "Tout au long de ce cours, nous allons nous mettre dans la peau d’une personne travaillant  dans un service data au sein d'une banque. Plus précisément, vous travaillez pour la filière gérant les différents prêts. L’objectif sera d’utiliser les connaissances acquises sur les librairies Python pour aider l’agence dans différentes tâches.\n",
    "\n",
    "Pour cette première tâche, nous avons à notre disposition les revenus de 10 clients de notre banque. Vous aurez à utiliser les différentes manipulations présentées dans ce chapitre pour sélectionner certains revenus selon une condition spécifique et effectuer diverses opérations."
   ]
  },
  {
   "cell_type": "code",
   "execution_count": 1,
   "id": "dc9d8094",
   "metadata": {},
   "outputs": [],
   "source": [
    "import numpy as np"
   ]
  },
  {
   "cell_type": "markdown",
   "id": "c180d60a",
   "metadata": {},
   "source": [
    "Considérons les revenus mensuels suivants :"
   ]
  },
  {
   "cell_type": "code",
   "execution_count": 2,
   "id": "4e9af3c4",
   "metadata": {},
   "outputs": [],
   "source": [
    "liste = [1800, 1500, 2200, 3000, 2172, 5000, 1400, 1200, 1100, 1300]"
   ]
  },
  {
   "cell_type": "markdown",
   "id": "4025d141",
   "metadata": {},
   "source": [
    "A partir de ces revenus, créez un array que vous nommerez `revenus` :"
   ]
  },
  {
   "cell_type": "code",
   "execution_count": null,
   "id": "85ea09e2",
   "metadata": {},
   "outputs": [],
   "source": [
    "revenus ="
   ]
  },
  {
   "cell_type": "markdown",
   "id": "ef50d992",
   "metadata": {},
   "source": [
    "Maintenant, créez un nouvel array `haut_revenus` dans lequel vous sélectionnerez l'ensemble des revenus supérieurs ou égal à 3000€ :"
   ]
  },
  {
   "cell_type": "code",
   "execution_count": null,
   "id": "b5b13147",
   "metadata": {},
   "outputs": [],
   "source": [
    "haut_revenus ="
   ]
  },
  {
   "cell_type": "markdown",
   "id": "26e51644",
   "metadata": {},
   "source": [
    "Il est à présent temps de calculer quelques indicateurs :\n",
    "- calculez dans un premier temps la somme des revenus **annuelle**. Pour rappel, les revenus listés ci dessus sont mensuels.\n",
    "- calculez ensuite la moyenne des revenus des 10 clients"
   ]
  },
  {
   "cell_type": "code",
   "execution_count": null,
   "id": "197015a8",
   "metadata": {},
   "outputs": [],
   "source": [
    "somme = \n",
    "print(\"La somme des revenus annuelle est :\", somme, \"€\")"
   ]
  },
  {
   "cell_type": "code",
   "execution_count": null,
   "id": "4555b2ac",
   "metadata": {},
   "outputs": [],
   "source": [
    "moyenne = \n",
    "print(\"La moyenne des revenus mensuelle est :\", moyenne, \"€\")"
   ]
  },
  {
   "cell_type": "markdown",
   "id": "2ed2f4fd",
   "metadata": {},
   "source": [
    "Un de nos clients (dont les revenus mensuels s'élevaient jusque là à 1400€) vient de nous annoncer qu'il venait d'obtenir une promotion. Grâce à cette dernière, il a gagné 200€ sur son salaire mensuel. Effectuez cette modification au sein de votre array revenus."
   ]
  },
  {
   "cell_type": "code",
   "execution_count": null,
   "id": "2b216c95",
   "metadata": {},
   "outputs": [],
   "source": []
  },
  {
   "cell_type": "markdown",
   "id": "7bf8c46b",
   "metadata": {},
   "source": [
    "Félicitation pour être arrivé au bout ! \n",
    "\n",
    "Si vous avez rencontré certains problèmes : aucune inquiétude :)\n",
    "\n",
    "Vous pouvez à présent vous référer à la correction ci-contre qui propose une solution complète : [lien vers la solution](https://colab.research.google.com/github/OpenClassrooms-Student-Center/fr-4452741-decouvrez-les-librairies-python-pour-la-data-science/blob/main/notebooks/P1/P1C3%20-%20Cr%C3%A9ez%20vos%20premiers%20arrays%20avec%20Numpy%20-%20correction.ipynb)."
   ]
  }
 ],
 "metadata": {
  "kernelspec": {
   "display_name": "Python 3 (ipykernel)",
   "language": "python",
   "name": "python3"
  },
  "language_info": {
   "codemirror_mode": {
    "name": "ipython",
    "version": 3
   },
   "file_extension": ".py",
   "mimetype": "text/x-python",
   "name": "python",
   "nbconvert_exporter": "python",
   "pygments_lexer": "ipython3",
   "version": "3.9.7"
  }
 },
 "nbformat": 4,
 "nbformat_minor": 5
}
