{
 "cells": [
  {
   "cell_type": "code",
   "execution_count": 1,
   "id": "e7a3ce8c",
   "metadata": {},
   "outputs": [],
   "source": [
    "import numpy as np"
   ]
  },
  {
   "cell_type": "markdown",
   "id": "84b399c1",
   "metadata": {},
   "source": [
    "# A vous de jouer\n",
    "\n",
    "Considérons les revenus mensuels moyens de 10 clients de notre banque :"
   ]
  },
  {
   "cell_type": "code",
   "execution_count": 2,
   "id": "10ad03dc",
   "metadata": {},
   "outputs": [],
   "source": [
    "liste = [1800, 1500, 2200, 3000, 2172, 5000, 1400, 1200, 1100, 1300]"
   ]
  },
  {
   "cell_type": "markdown",
   "id": "b2dc62f8",
   "metadata": {},
   "source": [
    "A partir de ces revenus, créez un array que vous nommerez `revenus` :"
   ]
  },
  {
   "cell_type": "code",
   "execution_count": 3,
   "id": "cb05dcc0",
   "metadata": {},
   "outputs": [
    {
     "data": {
      "text/plain": [
       "array([1800, 1500, 2200, 3000, 2172, 5000, 1400, 1200, 1100, 1300])"
      ]
     },
     "metadata": {},
     "output_type": "display_data"
    }
   ],
   "source": [
    "revenus = np.array(liste)\n",
    "display(revenus)"
   ]
  },
  {
   "cell_type": "markdown",
   "id": "0ec4fd80",
   "metadata": {},
   "source": [
    "Maintenant, créez un nouvel array `haut_revenus` dans lequel vous sélectionnerez l'ensemble des revenus supérieurs ou égal à 3000€ :"
   ]
  },
  {
   "cell_type": "code",
   "execution_count": 4,
   "id": "0e66fdc0",
   "metadata": {},
   "outputs": [
    {
     "data": {
      "text/plain": [
       "array([3000, 5000])"
      ]
     },
     "metadata": {},
     "output_type": "display_data"
    }
   ],
   "source": [
    "haut_revenus = revenus[revenus>=3000]\n",
    "display(haut_revenus)"
   ]
  },
  {
   "cell_type": "markdown",
   "id": "6f07ebe0",
   "metadata": {},
   "source": [
    "Il est à présent temps de calculer quelques indicateurs :\n",
    "- calculez dans un premier temps la somme des revenus **annuelle**. Pour rappel, les revenus listés ci dessus sont mensuels.\n",
    "- calculez ensuite la moyenne des revenus des 10 clients"
   ]
  },
  {
   "cell_type": "code",
   "execution_count": 5,
   "id": "fcb0c22e",
   "metadata": {},
   "outputs": [
    {
     "name": "stdout",
     "output_type": "stream",
     "text": [
      "La somme des revenus annuelle est : 20672 €\n"
     ]
    }
   ],
   "source": [
    "somme = revenus.sum()\n",
    "print(\"La somme des revenus annuelle est :\", somme, \"€\")"
   ]
  },
  {
   "cell_type": "code",
   "execution_count": 6,
   "id": "45513d7f",
   "metadata": {},
   "outputs": [
    {
     "name": "stdout",
     "output_type": "stream",
     "text": [
      "La moyenne des revenus mensuelle est : 2067.2 €\n"
     ]
    }
   ],
   "source": [
    "moyenne = revenus.mean()\n",
    "print(\"La moyenne des revenus mensuelle est :\", moyenne, \"€\")"
   ]
  },
  {
   "cell_type": "markdown",
   "id": "1e9d7bba",
   "metadata": {},
   "source": [
    "Un de nos clients (dont les revenus mensuels s'élevaient jusque là à 1400€) vient de nous annoncer qu'il venait d'obtenir une promotion. Grâce à cette dernière, il a gagné 200€ sur son salaire mensuel. Effectuez cette modification au sein de votre array revenus."
   ]
  },
  {
   "cell_type": "code",
   "execution_count": 7,
   "id": "f4eb6a0b",
   "metadata": {},
   "outputs": [
    {
     "name": "stdout",
     "output_type": "stream",
     "text": [
      "Array avant : [1800 1500 2200 3000 2172 5000 1400 1200 1100 1300]\n",
      "Array après : [1800 1500 2200 3000 2172 5000 1700 1200 1100 1300]\n"
     ]
    }
   ],
   "source": [
    "print(\"Array avant :\", revenus)\n",
    "\n",
    "revenus[revenus == 1400] = 1700\n",
    "print(\"Array après :\", revenus)"
   ]
  },
  {
   "cell_type": "markdown",
   "id": "72873bc8",
   "metadata": {},
   "source": [
    "La modification a bien été effectuée. \n",
    "\n",
    "Pour expliciter un peu plus cette ligne de code :\n",
    "- `revenus[revenus == 1400]` vient sélectionner l'ensemble des éléments qui sont strictement égals à 1400€ (donc ici le seul qui nous intéresse)\n",
    "- la suite vient modifier cet élement par la nouvelle valeur (ici 1700)"
   ]
  },
  {
   "cell_type": "code",
   "execution_count": null,
   "id": "8c32023b",
   "metadata": {},
   "outputs": [],
   "source": []
  }
 ],
 "metadata": {
  "kernelspec": {
   "display_name": "Python 3 (ipykernel)",
   "language": "python",
   "name": "python3"
  },
  "language_info": {
   "codemirror_mode": {
    "name": "ipython",
    "version": 3
   },
   "file_extension": ".py",
   "mimetype": "text/x-python",
   "name": "python",
   "nbconvert_exporter": "python",
   "pygments_lexer": "ipython3",
   "version": "3.9.7"
  }
 },
 "nbformat": 4,
 "nbformat_minor": 5
}
