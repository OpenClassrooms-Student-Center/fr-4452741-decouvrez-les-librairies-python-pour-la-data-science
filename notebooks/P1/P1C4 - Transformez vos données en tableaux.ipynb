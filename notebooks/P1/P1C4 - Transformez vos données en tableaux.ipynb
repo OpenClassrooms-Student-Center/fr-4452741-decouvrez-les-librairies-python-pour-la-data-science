{
 "cells": [
  {
   "cell_type": "code",
   "execution_count": 1,
   "id": "87ad096c",
   "metadata": {},
   "outputs": [],
   "source": [
    "import numpy as np"
   ]
  },
  {
   "cell_type": "markdown",
   "id": "0c6779de",
   "metadata": {},
   "source": [
    "# A vous de jouer\n",
    "\n",
    "Nous considérons encore nos 10 clients sur lesquels nous avons cette fois 3 informations : \n",
    "- le revenu mensuel\n",
    "- l'age du client\n",
    "- le nombre d'enfants à charge\n",
    "\n",
    "L'ensemble des ces informations dans la liste `tableau` suivante :"
   ]
  },
  {
   "cell_type": "code",
   "execution_count": 2,
   "id": "5c4e902c",
   "metadata": {},
   "outputs": [
    {
     "data": {
      "text/plain": [
       "[[1800, 21, 0],\n",
       " [1500, 54, 2],\n",
       " [2200, 28, 3],\n",
       " [3000, 37, 1],\n",
       " [2172, 37, 2],\n",
       " [5000, 32, 0],\n",
       " [1400, 23, 0],\n",
       " [1200, 25, 1],\n",
       " [1100, 19, 0],\n",
       " [1300, 31, 2]]"
      ]
     },
     "metadata": {},
     "output_type": "display_data"
    }
   ],
   "source": [
    "hugo = [1800, 21, 0]\n",
    "richard = [1500, 54, 2]\n",
    "emilie = [2200, 28, 3]\n",
    "pierre = [3000, 37, 1]\n",
    "paul = [2172, 37, 2]\n",
    "deborah = [5000, 32, 0]\n",
    "yohann = [1400, 23, 0]\n",
    "anne = [1200, 25, 1]\n",
    "thibault = [1100, 19, 0]\n",
    "emmanuel = [1300, 31, 2]\n",
    "\n",
    "tableau = [hugo, richard, emilie, pierre, paul, deborah,\n",
    "           yohann, anne, thibault, emmanuel]\n",
    "\n",
    "display(tableau)"
   ]
  },
  {
   "cell_type": "markdown",
   "id": "6025932d",
   "metadata": {},
   "source": [
    "A partir de cette liste, créez un array que vous nommerez `data` : "
   ]
  },
  {
   "cell_type": "code",
   "execution_count": null,
   "id": "96681575",
   "metadata": {},
   "outputs": [],
   "source": [
    "data = "
   ]
  },
  {
   "cell_type": "markdown",
   "id": "eaedaadf",
   "metadata": {},
   "source": [
    "Paul souhaiterait contracter un prêt immobilier :\n",
    "- affichez les informations qui lui sont relatives. Pour rappel, Paul correspond à la 5ème ligne de nos données\n",
    "- calculez ses mensualités maximales, en sachant que le taux d'endettement maximum est de 35% (il ne pourra donc pas rembourser par mois plus de 35% de son revenu)."
   ]
  },
  {
   "cell_type": "code",
   "execution_count": null,
   "id": "7923477b",
   "metadata": {},
   "outputs": [],
   "source": []
  },
  {
   "cell_type": "markdown",
   "id": "8d53aba6",
   "metadata": {},
   "source": [
    "Un nouveau client vient d'arriver, dont les informations sont les suivantes : "
   ]
  },
  {
   "cell_type": "code",
   "execution_count": 3,
   "id": "bdfd0e22",
   "metadata": {},
   "outputs": [],
   "source": [
    "louise = [1900, 31, 1]"
   ]
  },
  {
   "cell_type": "markdown",
   "id": "80b6778a",
   "metadata": {},
   "source": [
    "Ajoutez ces informations à la suite de votre array `data` :"
   ]
  },
  {
   "cell_type": "code",
   "execution_count": null,
   "id": "4fa46ed6",
   "metadata": {},
   "outputs": [],
   "source": [
    "data = "
   ]
  },
  {
   "cell_type": "markdown",
   "id": "e8b3fa7f",
   "metadata": {},
   "source": [
    "Stockez enfin l'ensemble des informations de salaire de notre clientèle dans une variable `revenus` :"
   ]
  },
  {
   "cell_type": "code",
   "execution_count": null,
   "id": "ff79413c",
   "metadata": {},
   "outputs": [],
   "source": [
    "revenus = "
   ]
  },
  {
   "cell_type": "code",
   "execution_count": null,
   "id": "eef1f614",
   "metadata": {},
   "outputs": [],
   "source": []
  }
 ],
 "metadata": {
  "kernelspec": {
   "display_name": "Python 3 (ipykernel)",
   "language": "python",
   "name": "python3"
  },
  "language_info": {
   "codemirror_mode": {
    "name": "ipython",
    "version": 3
   },
   "file_extension": ".py",
   "mimetype": "text/x-python",
   "name": "python",
   "nbconvert_exporter": "python",
   "pygments_lexer": "ipython3",
   "version": "3.9.7"
  }
 },
 "nbformat": 4,
 "nbformat_minor": 5
}
