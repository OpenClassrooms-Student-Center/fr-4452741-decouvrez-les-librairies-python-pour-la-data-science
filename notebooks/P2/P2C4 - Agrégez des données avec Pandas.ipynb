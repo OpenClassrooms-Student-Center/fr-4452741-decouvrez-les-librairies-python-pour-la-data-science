{
 "cells": [
  {
   "cell_type": "markdown",
   "id": "8767208c",
   "metadata": {},
   "source": [
    "![openclassrooms](https://s3.eu-west-1.amazonaws.com/course.oc-static.com/courses/6204541/1+HnqdJ-5ofxiPP9HIxdNdpw.jpeg)\n",
    "\n",
    "# Agrégez des données avec Pandas\n",
    "\n",
    "Suite aux résultats que vous avez fourni précédemment, le responsable du service prêt revient vous voir avec une remarque : vous l’avez probablement remarqué, mais certains clients ont contracté plusieurs prêts au sein de notre établissement. Cela fausse donc potentiellement les calculs réalisés précédemment.\n",
    "\n",
    "Il formule donc des demandes additionnelles, auxquelles vous allez devoir répondre en appliquant diverses agrégations."
   ]
  },
  {
   "cell_type": "code",
   "execution_count": 1,
   "id": "41bb315c",
   "metadata": {},
   "outputs": [],
   "source": [
    "import numpy as np\n",
    "import pandas as pd"
   ]
  },
  {
   "cell_type": "code",
   "execution_count": 2,
   "id": "921222b9",
   "metadata": {},
   "outputs": [
    {
     "data": {
      "text/html": [
       "<div>\n",
       "<style scoped>\n",
       "    .dataframe tbody tr th:only-of-type {\n",
       "        vertical-align: middle;\n",
       "    }\n",
       "\n",
       "    .dataframe tbody tr th {\n",
       "        vertical-align: top;\n",
       "    }\n",
       "\n",
       "    .dataframe thead th {\n",
       "        text-align: right;\n",
       "    }\n",
       "</style>\n",
       "<table border=\"1\" class=\"dataframe\">\n",
       "  <thead>\n",
       "    <tr style=\"text-align: right;\">\n",
       "      <th></th>\n",
       "      <th>identifiant</th>\n",
       "      <th>ville</th>\n",
       "      <th>CP</th>\n",
       "      <th>revenu</th>\n",
       "      <th>remboursement</th>\n",
       "      <th>duree</th>\n",
       "      <th>type</th>\n",
       "      <th>taux_interet</th>\n",
       "      <th>taux_endettement</th>\n",
       "      <th>cout_total</th>\n",
       "      <th>benefices</th>\n",
       "      <th>risque</th>\n",
       "    </tr>\n",
       "  </thead>\n",
       "  <tbody>\n",
       "    <tr>\n",
       "      <th>0</th>\n",
       "      <td>0</td>\n",
       "      <td>TOULOUSE</td>\n",
       "      <td>31100</td>\n",
       "      <td>3669.0</td>\n",
       "      <td>1130.05</td>\n",
       "      <td>240</td>\n",
       "      <td>immobilier</td>\n",
       "      <td>1.168</td>\n",
       "      <td>30.80</td>\n",
       "      <td>271212.0</td>\n",
       "      <td>131.99</td>\n",
       "      <td>Non</td>\n",
       "    </tr>\n",
       "    <tr>\n",
       "      <th>1</th>\n",
       "      <td>1</td>\n",
       "      <td>PARIS</td>\n",
       "      <td>75009</td>\n",
       "      <td>5310.0</td>\n",
       "      <td>240.00</td>\n",
       "      <td>64</td>\n",
       "      <td>automobile</td>\n",
       "      <td>3.701</td>\n",
       "      <td>4.52</td>\n",
       "      <td>15360.0</td>\n",
       "      <td>23.69</td>\n",
       "      <td>Non</td>\n",
       "    </tr>\n",
       "    <tr>\n",
       "      <th>2</th>\n",
       "      <td>1</td>\n",
       "      <td>PARIS</td>\n",
       "      <td>75009</td>\n",
       "      <td>5310.0</td>\n",
       "      <td>1247.85</td>\n",
       "      <td>300</td>\n",
       "      <td>immobilier</td>\n",
       "      <td>1.173</td>\n",
       "      <td>23.50</td>\n",
       "      <td>374355.0</td>\n",
       "      <td>182.97</td>\n",
       "      <td>Non</td>\n",
       "    </tr>\n",
       "    <tr>\n",
       "      <th>3</th>\n",
       "      <td>2</td>\n",
       "      <td>MARSEILLE</td>\n",
       "      <td>13010</td>\n",
       "      <td>1873.0</td>\n",
       "      <td>552.54</td>\n",
       "      <td>240</td>\n",
       "      <td>immobilier</td>\n",
       "      <td>0.972</td>\n",
       "      <td>29.50</td>\n",
       "      <td>132609.6</td>\n",
       "      <td>53.71</td>\n",
       "      <td>Non</td>\n",
       "    </tr>\n",
       "    <tr>\n",
       "      <th>4</th>\n",
       "      <td>3</td>\n",
       "      <td>MARSEILLE</td>\n",
       "      <td>13010</td>\n",
       "      <td>1684.0</td>\n",
       "      <td>586.03</td>\n",
       "      <td>180</td>\n",
       "      <td>immobilier</td>\n",
       "      <td>1.014</td>\n",
       "      <td>34.80</td>\n",
       "      <td>105485.4</td>\n",
       "      <td>44.57</td>\n",
       "      <td>Non</td>\n",
       "    </tr>\n",
       "  </tbody>\n",
       "</table>\n",
       "</div>"
      ],
      "text/plain": [
       "   identifiant      ville     CP  revenu  remboursement  duree        type  \\\n",
       "0            0   TOULOUSE  31100  3669.0        1130.05    240  immobilier   \n",
       "1            1      PARIS  75009  5310.0         240.00     64  automobile   \n",
       "2            1      PARIS  75009  5310.0        1247.85    300  immobilier   \n",
       "3            2  MARSEILLE  13010  1873.0         552.54    240  immobilier   \n",
       "4            3  MARSEILLE  13010  1684.0         586.03    180  immobilier   \n",
       "\n",
       "   taux_interet  taux_endettement  cout_total  benefices risque  \n",
       "0         1.168             30.80    271212.0     131.99    Non  \n",
       "1         3.701              4.52     15360.0      23.69    Non  \n",
       "2         1.173             23.50    374355.0     182.97    Non  \n",
       "3         0.972             29.50    132609.6      53.71    Non  \n",
       "4         1.014             34.80    105485.4      44.57    Non  "
      ]
     },
     "execution_count": 2,
     "metadata": {},
     "output_type": "execute_result"
    }
   ],
   "source": [
    "# traitement réalisés précédemment\n",
    "prets = pd.read_csv('https://raw.githubusercontent.com/benjaminmrl/data-4452741/main/prets.csv')\n",
    "\n",
    "# calcul du taux d'endettement\n",
    "prets['taux_endettement'] = round(prets['remboursement'] * 100 / prets['revenu'], 2)\n",
    "\n",
    "# renommer taux en taux_interet\n",
    "prets.rename(columns={'taux':'taux_interet'}, inplace=True)\n",
    "\n",
    "# calculer le cout total du pret\n",
    "prets['cout_total'] = prets['remboursement'] * prets['duree']\n",
    "\n",
    "# calculer les bénéfices mensuels réalisés\n",
    "prets['benefices'] = round((prets['cout_total'] * prets['taux_interet']/100)/(24), 2)\n",
    "\n",
    "# création d'une variable risque\n",
    "prets['risque'] = 'Non'\n",
    "prets.loc[prets['taux_endettement'] > 35, 'risque'] = 'Oui'\n",
    "\n",
    "prets.head()"
   ]
  },
  {
   "cell_type": "markdown",
   "id": "e57d3fb8",
   "metadata": {},
   "source": [
    "Pourriez vous créez un dataframe profil client pour palier à ce problème ?\n",
    "\n",
    "Par profil client, nous entendons un dataframe où il y n'y a qu'une seule ligne par client, avec le résumé de ses informations (somme remboursement, du taux d'endettement, du cout_total et des bénéfices réalisés)"
   ]
  },
  {
   "cell_type": "code",
   "execution_count": null,
   "id": "b82b5cd9",
   "metadata": {},
   "outputs": [],
   "source": []
  },
  {
   "cell_type": "markdown",
   "id": "3baaf664",
   "metadata": {},
   "source": [
    "Recalculez le nombre exact de personnes en situation bancaire risquée à partir du taux d'endettemment :"
   ]
  },
  {
   "cell_type": "code",
   "execution_count": null,
   "id": "2e33ebba",
   "metadata": {},
   "outputs": [],
   "source": []
  },
  {
   "cell_type": "markdown",
   "id": "808ee2d4",
   "metadata": {},
   "source": [
    "Calculez le bénéfice dégagé par chacune de nos agences, par types de prêts. Vous présenterez vos résultats sous la forme d'un tableau simple (via un `group_by`) :"
   ]
  },
  {
   "cell_type": "code",
   "execution_count": null,
   "id": "368db50b",
   "metadata": {},
   "outputs": [],
   "source": []
  },
  {
   "cell_type": "markdown",
   "id": "fde89323",
   "metadata": {},
   "source": [
    "Pour aller plus loin, on souhaite avoir un tableau à double entrée (via un `pivot_table`) présentant cette fois ci les bénéfices moyen réalisés par chaque agence, pour chaque type de prêt :"
   ]
  },
  {
   "cell_type": "code",
   "execution_count": null,
   "id": "a6b1b534",
   "metadata": {},
   "outputs": [],
   "source": []
  },
  {
   "cell_type": "markdown",
   "id": "b3cebac5",
   "metadata": {},
   "source": [
    "Quelle ville semble la plus intéressante où développer les prêts immobiliers ?"
   ]
  },
  {
   "cell_type": "markdown",
   "id": "183d23e3",
   "metadata": {},
   "source": [
    "Félicitation pour être arrivé au bout ! Voici [la correction correspondante]."
   ]
  },
  {
   "cell_type": "code",
   "execution_count": null,
   "id": "852214c7",
   "metadata": {},
   "outputs": [],
   "source": []
  }
 ],
 "metadata": {
  "kernelspec": {
   "display_name": "Python 3 (ipykernel)",
   "language": "python",
   "name": "python3"
  },
  "language_info": {
   "codemirror_mode": {
    "name": "ipython",
    "version": 3
   },
   "file_extension": ".py",
   "mimetype": "text/x-python",
   "name": "python",
   "nbconvert_exporter": "python",
   "pygments_lexer": "ipython3",
   "version": "3.9.7"
  }
 },
 "nbformat": 4,
 "nbformat_minor": 5
}
