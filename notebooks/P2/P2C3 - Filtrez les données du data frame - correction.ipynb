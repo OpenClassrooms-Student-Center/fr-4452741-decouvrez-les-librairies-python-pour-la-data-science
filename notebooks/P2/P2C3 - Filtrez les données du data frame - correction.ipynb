{
 "cells": [
  {
   "cell_type": "markdown",
   "id": "ee0c900c",
   "metadata": {},
   "source": [
    "![openclassrooms](https://s3.eu-west-1.amazonaws.com/course.oc-static.com/courses/6204541/1+HnqdJ-5ofxiPP9HIxdNdpw.jpeg)\n",
    "\n",
    "# Filtrez les données du dataframe\n",
    "\n",
    "Nous allons à présent aller un peu plus loin dans la manipulation de nos prêts bancaires. Les demandes suivantes ont été formulées par le responsable du service prêt de notre établissement :\n",
    "- Le taux d’endettement autorisé est de 35%. Pourriez vous me communiquer le nombre de personnes ayant dépassé ce seuil ?\n",
    "- Même question, mais cette fois ci uniquement sur l’agence Parisienne\n",
    "- Pour faciliter le traitement d’éventuelles futures demandes de prêts, pourriez vous ajouter une variable nommée `risque` qui nous permettrait d’identifier les clients risqués facilement\n",
    "- Combien de prêts automobiles ont été accordés ? Quel est le coût total moyen de ces derniers ?\n",
    "- Quel est le bénéfice mensuel total réalisé par l’agence Toulousaine ?\n",
    "\n",
    "Vous allez devoir mettre en application l’ensemble des processus de sélection présentés ci-dessus pour répondre à ces différentes demandes."
   ]
  },
  {
   "cell_type": "code",
   "execution_count": 1,
   "id": "cca3b3bf",
   "metadata": {},
   "outputs": [],
   "source": [
    "import numpy as np\n",
    "import pandas as pd"
   ]
  },
  {
   "cell_type": "code",
   "execution_count": 2,
   "id": "8c3dc15f",
   "metadata": {},
   "outputs": [
    {
     "data": {
      "text/html": [
       "<div>\n",
       "<style scoped>\n",
       "    .dataframe tbody tr th:only-of-type {\n",
       "        vertical-align: middle;\n",
       "    }\n",
       "\n",
       "    .dataframe tbody tr th {\n",
       "        vertical-align: top;\n",
       "    }\n",
       "\n",
       "    .dataframe thead th {\n",
       "        text-align: right;\n",
       "    }\n",
       "</style>\n",
       "<table border=\"1\" class=\"dataframe\">\n",
       "  <thead>\n",
       "    <tr style=\"text-align: right;\">\n",
       "      <th></th>\n",
       "      <th>identifiant</th>\n",
       "      <th>ville</th>\n",
       "      <th>CP</th>\n",
       "      <th>revenu</th>\n",
       "      <th>remboursement</th>\n",
       "      <th>duree</th>\n",
       "      <th>type</th>\n",
       "      <th>taux_interet</th>\n",
       "      <th>taux_endettement</th>\n",
       "      <th>cout_total</th>\n",
       "      <th>benefices</th>\n",
       "    </tr>\n",
       "  </thead>\n",
       "  <tbody>\n",
       "    <tr>\n",
       "      <th>0</th>\n",
       "      <td>0</td>\n",
       "      <td>TOULOUSE</td>\n",
       "      <td>31100</td>\n",
       "      <td>3669.0</td>\n",
       "      <td>1130.05</td>\n",
       "      <td>240</td>\n",
       "      <td>immobilier</td>\n",
       "      <td>1.168</td>\n",
       "      <td>30.80</td>\n",
       "      <td>271212.0</td>\n",
       "      <td>131.99</td>\n",
       "    </tr>\n",
       "    <tr>\n",
       "      <th>1</th>\n",
       "      <td>1</td>\n",
       "      <td>PARIS</td>\n",
       "      <td>75009</td>\n",
       "      <td>5310.0</td>\n",
       "      <td>240.00</td>\n",
       "      <td>64</td>\n",
       "      <td>automobile</td>\n",
       "      <td>3.701</td>\n",
       "      <td>4.52</td>\n",
       "      <td>15360.0</td>\n",
       "      <td>23.69</td>\n",
       "    </tr>\n",
       "    <tr>\n",
       "      <th>2</th>\n",
       "      <td>1</td>\n",
       "      <td>PARIS</td>\n",
       "      <td>75009</td>\n",
       "      <td>5310.0</td>\n",
       "      <td>1247.85</td>\n",
       "      <td>300</td>\n",
       "      <td>immobilier</td>\n",
       "      <td>1.173</td>\n",
       "      <td>23.50</td>\n",
       "      <td>374355.0</td>\n",
       "      <td>182.97</td>\n",
       "    </tr>\n",
       "    <tr>\n",
       "      <th>3</th>\n",
       "      <td>2</td>\n",
       "      <td>MARSEILLE</td>\n",
       "      <td>13010</td>\n",
       "      <td>1873.0</td>\n",
       "      <td>552.54</td>\n",
       "      <td>240</td>\n",
       "      <td>immobilier</td>\n",
       "      <td>0.972</td>\n",
       "      <td>29.50</td>\n",
       "      <td>132609.6</td>\n",
       "      <td>53.71</td>\n",
       "    </tr>\n",
       "    <tr>\n",
       "      <th>4</th>\n",
       "      <td>3</td>\n",
       "      <td>MARSEILLE</td>\n",
       "      <td>13010</td>\n",
       "      <td>1684.0</td>\n",
       "      <td>586.03</td>\n",
       "      <td>180</td>\n",
       "      <td>immobilier</td>\n",
       "      <td>1.014</td>\n",
       "      <td>34.80</td>\n",
       "      <td>105485.4</td>\n",
       "      <td>44.57</td>\n",
       "    </tr>\n",
       "  </tbody>\n",
       "</table>\n",
       "</div>"
      ],
      "text/plain": [
       "   identifiant      ville     CP  revenu  remboursement  duree        type  \\\n",
       "0            0   TOULOUSE  31100  3669.0        1130.05    240  immobilier   \n",
       "1            1      PARIS  75009  5310.0         240.00     64  automobile   \n",
       "2            1      PARIS  75009  5310.0        1247.85    300  immobilier   \n",
       "3            2  MARSEILLE  13010  1873.0         552.54    240  immobilier   \n",
       "4            3  MARSEILLE  13010  1684.0         586.03    180  immobilier   \n",
       "\n",
       "   taux_interet  taux_endettement  cout_total  benefices  \n",
       "0         1.168             30.80    271212.0     131.99  \n",
       "1         3.701              4.52     15360.0      23.69  \n",
       "2         1.173             23.50    374355.0     182.97  \n",
       "3         0.972             29.50    132609.6      53.71  \n",
       "4         1.014             34.80    105485.4      44.57  "
      ]
     },
     "execution_count": 2,
     "metadata": {},
     "output_type": "execute_result"
    }
   ],
   "source": [
    "# traitement réalisés précédemment\n",
    "prets = pd.read_csv('https://raw.githubusercontent.com/benjaminmrl/data-4452741/main/prets.csv')\n",
    "\n",
    "# calcul du taux d'endettement\n",
    "prets['taux_endettement'] = round(prets['remboursement'] * 100 / prets['revenu'], 2)\n",
    "\n",
    "# renommer taux en taux_interet\n",
    "prets.rename(columns={'taux':'taux_interet'}, inplace=True)\n",
    "\n",
    "# calculer le cout total du pret\n",
    "prets['cout_total'] = prets['remboursement'] * prets['duree']\n",
    "\n",
    "# calculer les bénéfices mensuels réalisés\n",
    "prets['benefices'] = round((prets['cout_total'] * prets['taux_interet']/100)/(24), 2)\n",
    "\n",
    "prets.head()"
   ]
  },
  {
   "cell_type": "markdown",
   "id": "4a9de066",
   "metadata": {},
   "source": [
    "Le taux d’endettement autorisé est de 35%. Pourriez vous me communiquer le nombre de personnes ayant dépassé ce seuil ? vous pourrez me stocker la liste dans une variable à part nommé `clients_risque`"
   ]
  },
  {
   "cell_type": "code",
   "execution_count": 3,
   "id": "76534979",
   "metadata": {
    "scrolled": true
   },
   "outputs": [
    {
     "name": "stdout",
     "output_type": "stream",
     "text": [
      "Il y a 58 clients qui ont dépassé le seuil autorisé\n"
     ]
    }
   ],
   "source": [
    "nombre_client_risque = prets.loc[prets['taux_endettement'] > 35, :].shape[0]\n",
    "print('Il y a', nombre_client_risque, 'clients qui ont dépassé le seuil autorisé')"
   ]
  },
  {
   "cell_type": "markdown",
   "id": "3efc5a92",
   "metadata": {},
   "source": [
    "*Pour expliquer rapidement cette ligne de code :*\n",
    "- *dans un premier temps nous utilisons la fonction .loc, pour sélectionner l'ensemble des lignes dont le taux d'endettement est supérieur à 35%*\n",
    "- *nous utilisons ensuite la méthode `.shape` pour calculer le nombre de clients concernés*"
   ]
  },
  {
   "cell_type": "markdown",
   "id": "f581247e",
   "metadata": {},
   "source": [
    "Même question, mais cette fois ci uniquement sur l’agence Parisienne"
   ]
  },
  {
   "cell_type": "code",
   "execution_count": 4,
   "id": "d7515d9e",
   "metadata": {},
   "outputs": [
    {
     "name": "stdout",
     "output_type": "stream",
     "text": [
      "Il y a 16 clients qui ont dépassé le seuil autorisé à l'agence Parisienne\n"
     ]
    }
   ],
   "source": [
    "nombre_client_risque = prets.loc[(prets['taux_endettement'] > 35) & (prets['ville'] == 'PARIS'), :].shape[0]\n",
    "print('Il y a', nombre_client_risque, \"clients qui ont dépassé le seuil autorisé à l'agence Parisienne\")"
   ]
  },
  {
   "cell_type": "markdown",
   "id": "a2e9e899",
   "metadata": {},
   "source": [
    "Pour faciliter le traitement d’éventuelles futures demandes de prêts, pourriez vous ajouter une variable nommée `risque` qui aurait pour valeur `Oui` si le client est risqué (taux d’endettement > 35%), `Non` sinon.\n",
    "Pour se faire, je vous conseille de créer la variable `risque` en l'initialisant à `Non` (ou `Oui`, à votre préférence) et de ne modifier que les lignes concernées par la valeur inverse :"
   ]
  },
  {
   "cell_type": "code",
   "execution_count": 5,
   "id": "d67bbc88",
   "metadata": {},
   "outputs": [],
   "source": [
    "prets['risque'] = 'Non'\n",
    "prets.loc[prets['taux_endettement'] > 35, 'risque'] = 'Oui'"
   ]
  },
  {
   "cell_type": "markdown",
   "id": "48bf61cb",
   "metadata": {},
   "source": [
    "Combien de prêts automobiles ont été accordés ? Quel est le coût total moyen de ces derniers ?"
   ]
  },
  {
   "cell_type": "code",
   "execution_count": 6,
   "id": "e3025b2f",
   "metadata": {},
   "outputs": [
    {
     "name": "stdout",
     "output_type": "stream",
     "text": [
      "Nous avons accordé 16 prêts automobiles, dont le coût total moyen est de 13665.0 €\n"
     ]
    }
   ],
   "source": [
    "prets_auto = prets.loc[prets['type'] == 'automobile', :]\n",
    "print('Nous avons accordé', prets_auto.shape[0], 'prêts automobiles, dont le coût total moyen est de',\n",
    "      prets_auto['cout_total'].mean(), '€')"
   ]
  },
  {
   "cell_type": "markdown",
   "id": "a2fa4e22",
   "metadata": {},
   "source": [
    "*Pour expliquer rapidement ces lignes de code :*\n",
    "- *nous opérons une sélection sur les prêts étant de type automobile. Le résultat de cette sélection est stocké dans un dataframe nommé `prets_auto`*\n",
    "- *nous utilisons la méthode `.shape` comme précédemment pour déterminer le nombre de prêts concernés*\n",
    "- *nous calculons ensuite la moyenne de la variable `cout_total` de ce dataframe nouvellement créé*"
   ]
  },
  {
   "cell_type": "markdown",
   "id": "0b0c23b1",
   "metadata": {},
   "source": [
    "Quel est le bénéfice mensuel total réalisé par l’agence Toulousaine ?"
   ]
  },
  {
   "cell_type": "code",
   "execution_count": 7,
   "id": "546225c0",
   "metadata": {},
   "outputs": [
    {
     "data": {
      "text/plain": [
       "2138.0699999999997"
      ]
     },
     "execution_count": 7,
     "metadata": {},
     "output_type": "execute_result"
    }
   ],
   "source": [
    "prets.loc[prets['ville'] == 'TOULOUSE', 'benefices'].sum()"
   ]
  },
  {
   "cell_type": "code",
   "execution_count": null,
   "id": "035098b6",
   "metadata": {},
   "outputs": [],
   "source": []
  }
 ],
 "metadata": {
  "kernelspec": {
   "display_name": "Python 3 (ipykernel)",
   "language": "python",
   "name": "python3"
  },
  "language_info": {
   "codemirror_mode": {
    "name": "ipython",
    "version": 3
   },
   "file_extension": ".py",
   "mimetype": "text/x-python",
   "name": "python",
   "nbconvert_exporter": "python",
   "pygments_lexer": "ipython3",
   "version": "3.9.7"
  }
 },
 "nbformat": 4,
 "nbformat_minor": 5
}
