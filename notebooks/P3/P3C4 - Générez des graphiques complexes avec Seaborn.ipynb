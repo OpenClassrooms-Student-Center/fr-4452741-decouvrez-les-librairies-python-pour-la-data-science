{
 "cells": [
  {
   "cell_type": "markdown",
   "id": "828cf27e",
   "metadata": {},
   "source": [
    "![openclassrooms](https://s3.eu-west-1.amazonaws.com/course.oc-static.com/courses/6204541/1+HnqdJ-5ofxiPP9HIxdNdpw.jpeg)\n",
    "\n",
    "# Générez des graphiques complexes avec Seaborn\n",
    "\n",
    "Habituellement, les graphiques du reporting mensuels sont réalisés avec matplotlib. Votre ultime tâche va être d’améliorer quelque peu le visuel de ces derniers et de les reprendre avec Seaborn.\n",
    "\n",
    "L’objectif va être de reprendre le travail qui avait été réalisé précédemment, avec Seaborn. En plus de ces graphiques, quelques demandes additionnelles ont été glissées par votre manager.\n",
    "\n",
    "Les graphiques à produire sont donc : \n",
    "- la proportion de prêt par type de prêt\n",
    "- le bénéfice mensuel réalisé en fonction du revenu du client\n",
    "- la distribution des bénéfices réalisés\n",
    "- le bénéfice mensuel total réalisé par agence"
   ]
  },
  {
   "cell_type": "code",
   "execution_count": 1,
   "id": "f6453502",
   "metadata": {},
   "outputs": [],
   "source": [
    "import numpy as np\n",
    "import pandas as pd\n",
    "import matplotlib.pyplot as plt\n",
    "import seaborn as sns"
   ]
  },
  {
   "cell_type": "markdown",
   "id": "81979609",
   "metadata": {},
   "source": [
    "Pour réaliser les différents graphiques, nous utiliserons le fichier de prêt enrichi ([c.f. exercice précédent](https://colab.research.google.com/github/OpenClassrooms-Student-Center/fr-4452741-decouvrez-les-librairies-python-pour-la-data-science/blob/main/notebooks/P2/P2C3%20-%20Filtrez%20les%20donn%C3%A9es%20du%20data%20frame%20-%20correction.ipynb)) que vous trouverez [à cette adresse](https://raw.githubusercontent.com/OpenClassrooms-Student-Center/fr-4452741-decouvrez-les-librairies-python-pour-la-data-science/main/data/prets_final.csv) :"
   ]
  },
  {
   "cell_type": "code",
   "execution_count": 2,
   "id": "ca87404c",
   "metadata": {},
   "outputs": [
    {
     "data": {
      "text/html": [
       "<div>\n",
       "<style scoped>\n",
       "    .dataframe tbody tr th:only-of-type {\n",
       "        vertical-align: middle;\n",
       "    }\n",
       "\n",
       "    .dataframe tbody tr th {\n",
       "        vertical-align: top;\n",
       "    }\n",
       "\n",
       "    .dataframe thead th {\n",
       "        text-align: right;\n",
       "    }\n",
       "</style>\n",
       "<table border=\"1\" class=\"dataframe\">\n",
       "  <thead>\n",
       "    <tr style=\"text-align: right;\">\n",
       "      <th></th>\n",
       "      <th>identifiant</th>\n",
       "      <th>ville</th>\n",
       "      <th>CP</th>\n",
       "      <th>revenu</th>\n",
       "      <th>remboursement</th>\n",
       "      <th>duree</th>\n",
       "      <th>type</th>\n",
       "      <th>taux_interet</th>\n",
       "      <th>taux_endettement</th>\n",
       "      <th>cout_total</th>\n",
       "      <th>benefices</th>\n",
       "      <th>risque</th>\n",
       "    </tr>\n",
       "  </thead>\n",
       "  <tbody>\n",
       "    <tr>\n",
       "      <th>0</th>\n",
       "      <td>0</td>\n",
       "      <td>TOULOUSE</td>\n",
       "      <td>31100</td>\n",
       "      <td>3669.0</td>\n",
       "      <td>1130.05</td>\n",
       "      <td>240</td>\n",
       "      <td>immobilier</td>\n",
       "      <td>1.168</td>\n",
       "      <td>30.80</td>\n",
       "      <td>271212.0</td>\n",
       "      <td>131.99</td>\n",
       "      <td>Non</td>\n",
       "    </tr>\n",
       "    <tr>\n",
       "      <th>1</th>\n",
       "      <td>1</td>\n",
       "      <td>PARIS</td>\n",
       "      <td>75009</td>\n",
       "      <td>5310.0</td>\n",
       "      <td>240.00</td>\n",
       "      <td>64</td>\n",
       "      <td>automobile</td>\n",
       "      <td>3.701</td>\n",
       "      <td>4.52</td>\n",
       "      <td>15360.0</td>\n",
       "      <td>23.69</td>\n",
       "      <td>Non</td>\n",
       "    </tr>\n",
       "    <tr>\n",
       "      <th>2</th>\n",
       "      <td>1</td>\n",
       "      <td>PARIS</td>\n",
       "      <td>75009</td>\n",
       "      <td>5310.0</td>\n",
       "      <td>1247.85</td>\n",
       "      <td>300</td>\n",
       "      <td>immobilier</td>\n",
       "      <td>1.173</td>\n",
       "      <td>23.50</td>\n",
       "      <td>374355.0</td>\n",
       "      <td>182.97</td>\n",
       "      <td>Non</td>\n",
       "    </tr>\n",
       "    <tr>\n",
       "      <th>3</th>\n",
       "      <td>2</td>\n",
       "      <td>MARSEILLE</td>\n",
       "      <td>13010</td>\n",
       "      <td>1873.0</td>\n",
       "      <td>552.54</td>\n",
       "      <td>240</td>\n",
       "      <td>immobilier</td>\n",
       "      <td>0.972</td>\n",
       "      <td>29.50</td>\n",
       "      <td>132609.6</td>\n",
       "      <td>53.71</td>\n",
       "      <td>Non</td>\n",
       "    </tr>\n",
       "    <tr>\n",
       "      <th>4</th>\n",
       "      <td>3</td>\n",
       "      <td>MARSEILLE</td>\n",
       "      <td>13010</td>\n",
       "      <td>1684.0</td>\n",
       "      <td>586.03</td>\n",
       "      <td>180</td>\n",
       "      <td>immobilier</td>\n",
       "      <td>1.014</td>\n",
       "      <td>34.80</td>\n",
       "      <td>105485.4</td>\n",
       "      <td>44.57</td>\n",
       "      <td>Non</td>\n",
       "    </tr>\n",
       "  </tbody>\n",
       "</table>\n",
       "</div>"
      ],
      "text/plain": [
       "   identifiant      ville     CP  revenu  remboursement  duree        type   \n",
       "0            0   TOULOUSE  31100  3669.0        1130.05    240  immobilier  \\\n",
       "1            1      PARIS  75009  5310.0         240.00     64  automobile   \n",
       "2            1      PARIS  75009  5310.0        1247.85    300  immobilier   \n",
       "3            2  MARSEILLE  13010  1873.0         552.54    240  immobilier   \n",
       "4            3  MARSEILLE  13010  1684.0         586.03    180  immobilier   \n",
       "\n",
       "   taux_interet  taux_endettement  cout_total  benefices risque  \n",
       "0         1.168             30.80    271212.0     131.99    Non  \n",
       "1         3.701              4.52     15360.0      23.69    Non  \n",
       "2         1.173             23.50    374355.0     182.97    Non  \n",
       "3         0.972             29.50    132609.6      53.71    Non  \n",
       "4         1.014             34.80    105485.4      44.57    Non  "
      ]
     },
     "execution_count": 2,
     "metadata": {},
     "output_type": "execute_result"
    }
   ],
   "source": [
    "prets = pd.read_csv('https://raw.githubusercontent.com/OpenClassrooms-Student-Center/fr-4452741-decouvrez-les-librairies-python-pour-la-data-science/main/data/prets_final.csv')\n",
    "\n",
    "prets.head()"
   ]
  },
  {
   "cell_type": "markdown",
   "id": "5034097c",
   "metadata": {},
   "source": [
    "## 1. proportion de prêt par type de prêt. \n",
    "\n",
    "Pour réaliser ce graphique, vous pouvez naturellement ré-utiliser l'agrégation, mais le mieux est de laisser travailler seaborn, en utilisant la fonction [countplot](https://seaborn.pydata.org/generated/seaborn.countplot.html)"
   ]
  },
  {
   "cell_type": "code",
   "execution_count": null,
   "id": "5cdabcb5",
   "metadata": {},
   "outputs": [],
   "source": []
  },
  {
   "cell_type": "markdown",
   "id": "7de6be1f",
   "metadata": {},
   "source": [
    "## 2. bénéfice mensuel réalisé en fonction du revenu du client - prêts immobiliers\n",
    "\n",
    "Pour ce graphique, vous ajouterez simplement en couleur l'information de l'agence où a été réalisé le prêt"
   ]
  },
  {
   "cell_type": "code",
   "execution_count": null,
   "id": "be490a33",
   "metadata": {},
   "outputs": [],
   "source": []
  },
  {
   "cell_type": "markdown",
   "id": "befa5bc3",
   "metadata": {},
   "source": [
    "## 3. La distribution des bénéfices réalisés\n",
    "\n",
    "Nous souhaitons avoir un histogramme classique et un à densité. Vous aurez besoin des fonctions : \n",
    "- [histplot](https://seaborn.pydata.org/generated/seaborn.histplot.html) pour l'histogramme\n",
    "- [kdeplot](https://seaborn.pydata.org/generated/seaborn.kdeplot.html) pour le diagramme à densité"
   ]
  },
  {
   "cell_type": "code",
   "execution_count": null,
   "id": "3c89892a",
   "metadata": {},
   "outputs": [],
   "source": []
  },
  {
   "cell_type": "markdown",
   "id": "1655f6e3",
   "metadata": {},
   "source": [
    "## 4. bénéfice mensuel total réalisé par agence\n",
    "\n",
    "Pour ce graphique, on souhaite avoir 2 barres par ville : une pour chaque type de prêt"
   ]
  },
  {
   "cell_type": "code",
   "execution_count": null,
   "id": "25f92ed7",
   "metadata": {},
   "outputs": [],
   "source": []
  },
  {
   "cell_type": "markdown",
   "id": "c6c43ce9",
   "metadata": {},
   "source": [
    "Top !! Que diriez vous de comparer à présent le travail réalisé avec [ma correction](https://colab.research.google.com/github/OpenClassrooms-Student-Center/fr-4452741-decouvrez-les-librairies-python-pour-la-data-science/blob/main/notebooks/P3/P3C4%20-%20G%C3%A9n%C3%A9rez%20des%20graphiques%20complexes%20avec%20Seaborn%20-%20correction.ipynb) ?"
   ]
  },
  {
   "cell_type": "code",
   "execution_count": null,
   "id": "245683d3",
   "metadata": {},
   "outputs": [],
   "source": []
  }
 ],
 "metadata": {
  "kernelspec": {
   "display_name": "Python 3 (ipykernel)",
   "language": "python",
   "name": "python3"
  },
  "language_info": {
   "codemirror_mode": {
    "name": "ipython",
    "version": 3
   },
   "file_extension": ".py",
   "mimetype": "text/x-python",
   "name": "python",
   "nbconvert_exporter": "python",
   "pygments_lexer": "ipython3",
   "version": "3.9.13"
  }
 },
 "nbformat": 4,
 "nbformat_minor": 5
}
