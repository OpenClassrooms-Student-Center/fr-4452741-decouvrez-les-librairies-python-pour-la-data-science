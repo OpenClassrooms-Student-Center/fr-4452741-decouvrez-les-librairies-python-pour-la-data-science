{
 "cells": [
  {
   "cell_type": "markdown",
   "id": "0571cf12",
   "metadata": {},
   "source": [
    "![openclassrooms](https://s3.eu-west-1.amazonaws.com/course.oc-static.com/courses/6204541/1+HnqdJ-5ofxiPP9HIxdNdpw.jpeg)\n",
    "\n",
    "# Tracez des graphiques avec matplotlib\n",
    "\n",
    "Vous êtes en train de préparer le reporting mensuel que vous devez présenter chaque fin de mois à votre responsable. La présentation devra comprendre certains graphiques clés : vous allez donc devoir utiliser vos compétences en data visualisation pour produire les différentes visualisations attendues.\n",
    "\n",
    "Les graphiques à produire sont donc : \n",
    "- la proportion de prêt par type de prêt\n",
    "- le bénéfice mensuel réalisé en fonction du revenu du client\n",
    "- la distribution des bénéfices réalisés\n",
    "- le bénéfice mensuel total réalisé par agence\n"
   ]
  },
  {
   "cell_type": "code",
   "execution_count": 1,
   "id": "c4d02905",
   "metadata": {},
   "outputs": [],
   "source": [
    "import numpy as np\n",
    "import pandas as pd\n",
    "import matplotlib.pyplot as plt"
   ]
  },
  {
   "cell_type": "markdown",
   "id": "5376a128",
   "metadata": {},
   "source": [
    "Pour réaliser les différents graphiques, nous utiliserons le fichier de prêt enrichi ([c.f. exercice précédent](https://colab.research.google.com/github/OpenClassrooms-Student-Center/fr-4452741-decouvrez-les-librairies-python-pour-la-data-science/blob/main/notebooks/P2/P2C3%20-%20Filtrez%20les%20donn%C3%A9es%20du%20data%20frame%20-%20correction.ipynb)) que vous trouverez [à cette adresse](https://raw.githubusercontent.com/OpenClassrooms-Student-Center/fr-4452741-decouvrez-les-librairies-python-pour-la-data-science/main/data/prets_final.csv) :"
   ]
  },
  {
   "cell_type": "code",
   "execution_count": 2,
   "id": "05e5172a",
   "metadata": {},
   "outputs": [
    {
     "data": {
      "text/html": [
       "<div>\n",
       "<style scoped>\n",
       "    .dataframe tbody tr th:only-of-type {\n",
       "        vertical-align: middle;\n",
       "    }\n",
       "\n",
       "    .dataframe tbody tr th {\n",
       "        vertical-align: top;\n",
       "    }\n",
       "\n",
       "    .dataframe thead th {\n",
       "        text-align: right;\n",
       "    }\n",
       "</style>\n",
       "<table border=\"1\" class=\"dataframe\">\n",
       "  <thead>\n",
       "    <tr style=\"text-align: right;\">\n",
       "      <th></th>\n",
       "      <th>identifiant</th>\n",
       "      <th>ville</th>\n",
       "      <th>CP</th>\n",
       "      <th>revenu</th>\n",
       "      <th>remboursement</th>\n",
       "      <th>duree</th>\n",
       "      <th>type</th>\n",
       "      <th>taux_interet</th>\n",
       "      <th>taux_endettement</th>\n",
       "      <th>cout_total</th>\n",
       "      <th>benefices</th>\n",
       "      <th>risque</th>\n",
       "    </tr>\n",
       "  </thead>\n",
       "  <tbody>\n",
       "    <tr>\n",
       "      <th>0</th>\n",
       "      <td>0</td>\n",
       "      <td>TOULOUSE</td>\n",
       "      <td>31100</td>\n",
       "      <td>3669.0</td>\n",
       "      <td>1130.05</td>\n",
       "      <td>240</td>\n",
       "      <td>immobilier</td>\n",
       "      <td>1.168</td>\n",
       "      <td>30.80</td>\n",
       "      <td>271212.0</td>\n",
       "      <td>131.99</td>\n",
       "      <td>Non</td>\n",
       "    </tr>\n",
       "    <tr>\n",
       "      <th>1</th>\n",
       "      <td>1</td>\n",
       "      <td>PARIS</td>\n",
       "      <td>75009</td>\n",
       "      <td>5310.0</td>\n",
       "      <td>240.00</td>\n",
       "      <td>64</td>\n",
       "      <td>automobile</td>\n",
       "      <td>3.701</td>\n",
       "      <td>4.52</td>\n",
       "      <td>15360.0</td>\n",
       "      <td>23.69</td>\n",
       "      <td>Non</td>\n",
       "    </tr>\n",
       "    <tr>\n",
       "      <th>2</th>\n",
       "      <td>1</td>\n",
       "      <td>PARIS</td>\n",
       "      <td>75009</td>\n",
       "      <td>5310.0</td>\n",
       "      <td>1247.85</td>\n",
       "      <td>300</td>\n",
       "      <td>immobilier</td>\n",
       "      <td>1.173</td>\n",
       "      <td>23.50</td>\n",
       "      <td>374355.0</td>\n",
       "      <td>182.97</td>\n",
       "      <td>Non</td>\n",
       "    </tr>\n",
       "    <tr>\n",
       "      <th>3</th>\n",
       "      <td>2</td>\n",
       "      <td>MARSEILLE</td>\n",
       "      <td>13010</td>\n",
       "      <td>1873.0</td>\n",
       "      <td>552.54</td>\n",
       "      <td>240</td>\n",
       "      <td>immobilier</td>\n",
       "      <td>0.972</td>\n",
       "      <td>29.50</td>\n",
       "      <td>132609.6</td>\n",
       "      <td>53.71</td>\n",
       "      <td>Non</td>\n",
       "    </tr>\n",
       "    <tr>\n",
       "      <th>4</th>\n",
       "      <td>3</td>\n",
       "      <td>MARSEILLE</td>\n",
       "      <td>13010</td>\n",
       "      <td>1684.0</td>\n",
       "      <td>586.03</td>\n",
       "      <td>180</td>\n",
       "      <td>immobilier</td>\n",
       "      <td>1.014</td>\n",
       "      <td>34.80</td>\n",
       "      <td>105485.4</td>\n",
       "      <td>44.57</td>\n",
       "      <td>Non</td>\n",
       "    </tr>\n",
       "  </tbody>\n",
       "</table>\n",
       "</div>"
      ],
      "text/plain": [
       "   identifiant      ville     CP  revenu  remboursement  duree        type   \n",
       "0            0   TOULOUSE  31100  3669.0        1130.05    240  immobilier  \\\n",
       "1            1      PARIS  75009  5310.0         240.00     64  automobile   \n",
       "2            1      PARIS  75009  5310.0        1247.85    300  immobilier   \n",
       "3            2  MARSEILLE  13010  1873.0         552.54    240  immobilier   \n",
       "4            3  MARSEILLE  13010  1684.0         586.03    180  immobilier   \n",
       "\n",
       "   taux_interet  taux_endettement  cout_total  benefices risque  \n",
       "0         1.168             30.80    271212.0     131.99    Non  \n",
       "1         3.701              4.52     15360.0      23.69    Non  \n",
       "2         1.173             23.50    374355.0     182.97    Non  \n",
       "3         0.972             29.50    132609.6      53.71    Non  \n",
       "4         1.014             34.80    105485.4      44.57    Non  "
      ]
     },
     "execution_count": 2,
     "metadata": {},
     "output_type": "execute_result"
    }
   ],
   "source": [
    "# traitement réalisés précédemment\n",
    "prets = pd.read_csv('https://raw.githubusercontent.com/OpenClassrooms-Student-Center/fr-4452741-decouvrez-les-librairies-python-pour-la-data-science/main/data/prets_final.csv')\n",
    "\n",
    "prets.head()"
   ]
  },
  {
   "cell_type": "markdown",
   "id": "1d3e0eae",
   "metadata": {},
   "source": [
    "## 1. proportion de prêt par type de prêt. "
   ]
  },
  {
   "cell_type": "code",
   "execution_count": null,
   "id": "841e389a",
   "metadata": {},
   "outputs": [],
   "source": []
  },
  {
   "cell_type": "markdown",
   "id": "e17a11c7",
   "metadata": {},
   "source": [
    "## 2. bénéfice mensuel réalisé en fonction du revenu du client"
   ]
  },
  {
   "cell_type": "code",
   "execution_count": null,
   "id": "2f423f9b",
   "metadata": {},
   "outputs": [],
   "source": []
  },
  {
   "cell_type": "markdown",
   "id": "3e93dd72",
   "metadata": {},
   "source": [
    "## 3. La distribution des bénéfices réalisés"
   ]
  },
  {
   "cell_type": "code",
   "execution_count": null,
   "id": "d84bc060",
   "metadata": {},
   "outputs": [],
   "source": []
  },
  {
   "cell_type": "markdown",
   "id": "99dcc511",
   "metadata": {},
   "source": [
    "## 4. bénéfice mensuel total réalisé par agence"
   ]
  },
  {
   "cell_type": "code",
   "execution_count": null,
   "id": "f39ad375",
   "metadata": {},
   "outputs": [],
   "source": []
  },
  {
   "cell_type": "markdown",
   "id": "ff99d906",
   "metadata": {},
   "source": [
    "Félicitations pour être arrivé au bout ! Voici [la correction correspondante](https://colab.research.google.com/github/OpenClassrooms-Student-Center/fr-4452741-decouvrez-les-librairies-python-pour-la-data-science/blob/main/notebooks/P3/P3C2%20-%20Tracez%20des%20graphiques%20avec%20Matplotlib%20-%20correction.ipynb)."
   ]
  },
  {
   "cell_type": "code",
   "execution_count": null,
   "id": "8d79ae24",
   "metadata": {},
   "outputs": [],
   "source": []
  }
 ],
 "metadata": {
  "kernelspec": {
   "display_name": "Python 3 (ipykernel)",
   "language": "python",
   "name": "python3"
  },
  "language_info": {
   "codemirror_mode": {
    "name": "ipython",
    "version": 3
   },
   "file_extension": ".py",
   "mimetype": "text/x-python",
   "name": "python",
   "nbconvert_exporter": "python",
   "pygments_lexer": "ipython3",
   "version": "3.9.13"
  }
 },
 "nbformat": 4,
 "nbformat_minor": 5
}
