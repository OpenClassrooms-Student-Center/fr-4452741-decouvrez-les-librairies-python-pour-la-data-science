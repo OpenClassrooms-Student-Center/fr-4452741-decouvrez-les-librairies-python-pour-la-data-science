{
 "cells": [
  {
   "cell_type": "markdown",
   "id": "1ee92ef4",
   "metadata": {},
   "source": [
    "![openclassrooms](https://s3.eu-west-1.amazonaws.com/course.oc-static.com/courses/6204541/1+HnqdJ-5ofxiPP9HIxdNdpw.jpeg)\n",
    "\n",
    "# Personnalisez vos graphiques avec Matplotlib\n",
    "\n",
    "Les bénéfices mensuels de l’année 2021 viennent de sortir par type de prêt au niveau de l’agence où vous travaillez. Dans le cadre du reporting mensuel, il vous est demandé de réaliser un graphique spécifique représentant l’évolution du bénéfices mensuels sur l’année, par type de prêt. On a les données suivantes à disposition :"
   ]
  },
  {
   "cell_type": "code",
   "execution_count": 1,
   "id": "2a61943c",
   "metadata": {},
   "outputs": [
    {
     "data": {
      "text/html": [
       "<div>\n",
       "<style scoped>\n",
       "    .dataframe tbody tr th:only-of-type {\n",
       "        vertical-align: middle;\n",
       "    }\n",
       "\n",
       "    .dataframe tbody tr th {\n",
       "        vertical-align: top;\n",
       "    }\n",
       "\n",
       "    .dataframe thead th {\n",
       "        text-align: right;\n",
       "    }\n",
       "</style>\n",
       "<table border=\"1\" class=\"dataframe\">\n",
       "  <thead>\n",
       "    <tr style=\"text-align: right;\">\n",
       "      <th></th>\n",
       "      <th>date</th>\n",
       "      <th>immobilier</th>\n",
       "      <th>automobile</th>\n",
       "      <th>consommation</th>\n",
       "    </tr>\n",
       "  </thead>\n",
       "  <tbody>\n",
       "    <tr>\n",
       "      <th>0</th>\n",
       "      <td>2021-01-01</td>\n",
       "      <td>10439</td>\n",
       "      <td>5096</td>\n",
       "      <td>3808</td>\n",
       "    </tr>\n",
       "    <tr>\n",
       "      <th>1</th>\n",
       "      <td>2021-02-01</td>\n",
       "      <td>11266</td>\n",
       "      <td>5146</td>\n",
       "      <td>5838</td>\n",
       "    </tr>\n",
       "    <tr>\n",
       "      <th>2</th>\n",
       "      <td>2021-03-01</td>\n",
       "      <td>11315</td>\n",
       "      <td>5276</td>\n",
       "      <td>5601</td>\n",
       "    </tr>\n",
       "    <tr>\n",
       "      <th>3</th>\n",
       "      <td>2021-04-01</td>\n",
       "      <td>11456</td>\n",
       "      <td>5067</td>\n",
       "      <td>3639</td>\n",
       "    </tr>\n",
       "    <tr>\n",
       "      <th>4</th>\n",
       "      <td>2021-05-01</td>\n",
       "      <td>10816</td>\n",
       "      <td>4937</td>\n",
       "      <td>5273</td>\n",
       "    </tr>\n",
       "  </tbody>\n",
       "</table>\n",
       "</div>"
      ],
      "text/plain": [
       "        date  immobilier  automobile  consommation\n",
       "0 2021-01-01       10439        5096          3808\n",
       "1 2021-02-01       11266        5146          5838\n",
       "2 2021-03-01       11315        5276          5601\n",
       "3 2021-04-01       11456        5067          3639\n",
       "4 2021-05-01       10816        4937          5273"
      ]
     },
     "execution_count": 1,
     "metadata": {},
     "output_type": "execute_result"
    }
   ],
   "source": [
    "import numpy as np\n",
    "import pandas as pd\n",
    "import matplotlib.pyplot as plt\n",
    "\n",
    "CA = pd.read_csv('https://raw.githubusercontent.com/benjaminmrl/data-4452741/main/CA.csv')\n",
    "CA['date'] = pd.to_datetime(CA['date'])\n",
    "CA.head()"
   ]
  },
  {
   "attachments": {},
   "cell_type": "markdown",
   "id": "06e872d8",
   "metadata": {},
   "source": [
    "L'objectif est d'obtenir le graphique suivant : "
   ]
  },
  {
   "cell_type": "markdown",
   "id": "66c61f31",
   "metadata": {},
   "source": [
    "Pour expliciter rapidement les différents aspects qui avaient été réalisés :\n",
    "- une courbe a été tracée pour chaque type de prêt, de dimension 3\n",
    "- la légende est apparente\n",
    "- le titre de l'axe des ordonnées a été ajouté\n",
    "- la police des graduations (ticks) a été fixée à 11\n",
    "- la police du titre a été fixée à 14\n",
    "- le quadrillage apparait en gris, avec une taille de 0.5"
   ]
  },
  {
   "cell_type": "code",
   "execution_count": null,
   "id": "f5b8b884",
   "metadata": {},
   "outputs": [],
   "source": []
  }
 ],
 "metadata": {
  "kernelspec": {
   "display_name": "Python 3 (ipykernel)",
   "language": "python",
   "name": "python3"
  },
  "language_info": {
   "codemirror_mode": {
    "name": "ipython",
    "version": 3
   },
   "file_extension": ".py",
   "mimetype": "text/x-python",
   "name": "python",
   "nbconvert_exporter": "python",
   "pygments_lexer": "ipython3",
   "version": "3.9.7"
  }
 },
 "nbformat": 4,
 "nbformat_minor": 5
}
